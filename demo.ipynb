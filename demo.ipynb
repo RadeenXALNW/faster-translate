{
 "cells": [
  {
   "cell_type": "code",
   "execution_count": 1,
   "metadata": {},
   "outputs": [
    {
     "name": "stderr",
     "output_type": "stream",
     "text": [
      "/home/azureuser/.conda/envs/myenv/lib/python3.9/site-packages/tqdm/auto.py:21: TqdmWarning: IProgress not found. Please update jupyter and ipywidgets. See https://ipywidgets.readthedocs.io/en/stable/user_install.html\n",
      "  from .autonotebook import tqdm as notebook_tqdm\n"
     ]
    }
   ],
   "source": [
    "from faster_translate import TranslateModel"
   ]
  },
  {
   "cell_type": "code",
   "execution_count": 3,
   "metadata": {},
   "outputs": [
    {
     "name": "stdout",
     "output_type": "stream",
     "text": [
      "Downloading model from Hugging Face repository: sawradip/faster-translate-banglanmt-bn2en-t5\n"
     ]
    },
    {
     "name": "stderr",
     "output_type": "stream",
     "text": [
      "Fetching 5 files: 100%|██████████| 5/5 [00:00<00:00, 60436.66it/s]\n"
     ]
    },
    {
     "name": "stdout",
     "output_type": "stream",
     "text": [
      "Model downloaded to /home/azureuser/.cache/huggingface/hub/models--sawradip--faster-translate-banglanmt-bn2en-t5/snapshots/5f56c0bd24b5d9e7406f2e5dc689790916f971ef.\n",
      "\n",
      "\n",
      "\n"
     ]
    },
    {
     "data": {
      "text/plain": [
       "<faster_translate.model.TranslateModel at 0x7f2aec6249a0>"
      ]
     },
     "execution_count": 3,
     "metadata": {},
     "output_type": "execute_result"
    }
   ],
   "source": [
    "model = TranslateModel.from_pretrained(\"sawradip/faster-translate-banglanmt-bn2en-t5\", normalizer_func = \"buetnlpnormalizer\")\n",
    "\n",
    "model"
   ]
  },
  {
   "cell_type": "code",
   "execution_count": 2,
   "metadata": {},
   "outputs": [
    {
     "name": "stdout",
     "output_type": "stream",
     "text": [
      "Downloading model from Hugging Face repository: banglanmt_bn2en\n"
     ]
    },
    {
     "name": "stderr",
     "output_type": "stream",
     "text": [
      "Fetching 5 files: 100%|██████████| 5/5 [00:00<00:00, 60090.32it/s]\n"
     ]
    },
    {
     "name": "stdout",
     "output_type": "stream",
     "text": [
      "Model downloaded to /home/azureuser/.cache/huggingface/hub/models--sawradip--faster-translate-banglanmt-bn2en-t5/snapshots/5f56c0bd24b5d9e7406f2e5dc689790916f971ef.\n",
      "\n",
      "\n",
      "\n"
     ]
    }
   ],
   "source": [
    "model = TranslateModel.from_pretrained(\"banglanmt_bn2en\")"
   ]
  },
  {
   "cell_type": "code",
   "execution_count": 3,
   "metadata": {},
   "outputs": [
    {
     "data": {
      "text/plain": [
       "'Foreign loans are now being discussed in the country. This burden is being increased. In the last 2022-23 fiscal year, there has been a total debt of 267 crores. The government has increased the amount of credit in the next seven years.'"
      ]
     },
     "execution_count": 3,
     "metadata": {},
     "output_type": "execute_result"
    }
   ],
   "source": [
    "model.translate_single(\"দেশে বিদেশি ঋণ নিয়ে এখন বেশ আলোচনা হচ্ছে। এই ঋণ পরিশোধের চাপ ধীরে ধীরে বাড়ছে। গত ২০২২-২৩ অর্থবছরে মোট ২৬৭ কোটি ডলারের ঋণ পরিশোধ করতে হয়েছে। আগামী সাত বছরে ঋণ পরিশোধের পরিমাণ বেড়ে দ্বিগুণ হবে বলে মনে করছে অর্থনৈতিক সম্পর্ক বিভাগ (ইআরডি)।\")"
   ]
  },
  {
   "cell_type": "code",
   "execution_count": 3,
   "metadata": {},
   "outputs": [
    {
     "data": {
      "text/plain": [
       "['Foreign loans are now being discussed in the country. This burden is being increased. In the last 2022-23 fiscal year, there has been a total debt of 267 crores. The government has increased the amount of credit in the next seven years.',\n",
       " 'Littletonbapary was going from Kachamalniagulistan to Shyambazar in old Dhaka.']"
      ]
     },
     "execution_count": 3,
     "metadata": {},
     "output_type": "execute_result"
    }
   ],
   "source": [
    "model.translate_batch([\n",
    "    \"দেশে বিদেশি ঋণ নিয়ে এখন বেশ আলোচনা হচ্ছে। এই ঋণ পরিশোধের চাপ ধীরে ধীরে বাড়ছে। গত ২০২২-২৩ অর্থবছরে মোট ২৬৭ কোটি ডলারের ঋণ পরিশোধ করতে হয়েছে। আগামী সাত বছরে ঋণ পরিশোধের পরিমাণ বেড়ে দ্বিগুণ হবে বলে মনে করছে অর্থনৈতিক সম্পর্ক বিভাগ (ইআরডি)।\",\n",
    "    \"রাত তিনটার দিকে কাঁচামাল নিয়ে গুলিস্তান থেকে পুরান ঢাকার শ্যামবাজারের আড়তে যাচ্ছিলেন লিটন ব্যাপারী। \"\n",
    "    ])"
   ]
  },
  {
   "cell_type": "code",
   "execution_count": 2,
   "metadata": {},
   "outputs": [
    {
     "name": "stdout",
     "output_type": "stream",
     "text": [
      "Downloading model from Hugging Face repository: banglanmt_en2bn\n"
     ]
    },
    {
     "name": "stderr",
     "output_type": "stream",
     "text": [
      ".gitattributes: 100%|██████████| 1.52k/1.52k [00:00<00:00, 851kB/s]\n",
      "Fetching 5 files:  20%|██        | 1/5 [00:00<00:02,  1.56it/s]\n",
      "\u001b[A\n",
      "\n",
      "config.json: 100%|██████████| 222/222 [00:00<00:00, 142kB/s]\n",
      "source_vocabulary.json: 100%|██████████| 549k/549k [00:00<00:00, 2.21MB/s]\n",
      "\n",
      "target_vocabulary.json: 100%|██████████| 1.53M/1.53M [00:00<00:00, 6.12MB/s]\n",
      "model.bin: 100%|██████████| 318M/318M [00:14<00:00, 21.5MB/s]\n",
      "Fetching 5 files: 100%|██████████| 5/5 [00:15<00:00,  3.15s/it]\n"
     ]
    },
    {
     "name": "stdout",
     "output_type": "stream",
     "text": [
      "Model downloaded to /home/azureuser/.cache/huggingface/hub/models--sawradip--faster-translate-banglanmt-en2bn-t5/snapshots/087d9a274804e0997ca4c06fe5f83140147470c8.\n",
      "\n",
      "\n",
      "\n"
     ]
    }
   ],
   "source": [
    "model = TranslateModel.from_pretrained(\"banglanmt_en2bn\")"
   ]
  },
  {
   "cell_type": "code",
   "execution_count": 7,
   "metadata": {},
   "outputs": [
    {
     "data": {
      "text/plain": [
       "'এই ফাইলটি ফাঁকা।'"
      ]
     },
     "execution_count": 7,
     "metadata": {},
     "output_type": "execute_result"
    }
   ],
   "source": [
    "model.translate_single(\"This file empty.\")"
   ]
  },
  {
   "cell_type": "code",
   "execution_count": null,
   "metadata": {},
   "outputs": [],
   "source": []
  }
 ],
 "metadata": {
  "kernelspec": {
   "display_name": "myenv",
   "language": "python",
   "name": "python3"
  },
  "language_info": {
   "codemirror_mode": {
    "name": "ipython",
    "version": 3
   },
   "file_extension": ".py",
   "mimetype": "text/x-python",
   "name": "python",
   "nbconvert_exporter": "python",
   "pygments_lexer": "ipython3",
   "version": "3.9.18"
  }
 },
 "nbformat": 4,
 "nbformat_minor": 2
}
